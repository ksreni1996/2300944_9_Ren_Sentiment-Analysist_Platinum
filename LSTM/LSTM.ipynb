{
 "cells": [
  {
   "cell_type": "markdown",
   "id": "254631f5",
   "metadata": {},
   "source": [
    "# Long Short Term Memory Network (LSTM)"
   ]
  },
  {
   "cell_type": "markdown",
   "id": "6658ef89",
   "metadata": {},
   "source": [
    "## Load Libraries and Dataset"
   ]
  },
  {
   "cell_type": "code",
   "execution_count": 1,
   "id": "09e35254",
   "metadata": {},
   "outputs": [],
   "source": [
    "# Import required libraries\n",
    "\n",
    "import pandas as pd\n",
    "import numpy as np\n",
    "import seaborn as sns\n",
    "import matplotlib.pyplot as plt\n",
    "import sqlite3\n",
    "import pickle\n",
    "from tensorflow.keras.preprocessing.text import Tokenizer\n",
    "from tensorflow.keras.preprocessing.sequence import pad_sequences\n",
    "from collections import defaultdict\n",
    "from sklearn.model_selection import train_test_split\n",
    "from tensorflow.keras import layers\n",
    "from tensorflow.keras.models import Sequential\n",
    "from tensorflow.keras.layers import Dense, Embedding, LSTM, SpatialDropout1D, SimpleRNN, Activation\n",
    "from tensorflow.keras import optimizers\n",
    "from tensorflow.keras.callbacks import EarlyStopping, TensorBoard\n",
    "from tensorflow.keras.layers import Flatten\n",
    "from tensorflow.keras import backend as K\n",
    "from sklearn import metrics\n",
    "from sklearn.metrics import classification_report\n",
    "from sklearn.metrics import accuracy_score\n",
    "from sklearn.model_selection import KFold\n",
    "from keras.models import load_model\n",
    "import re"
   ]
  },
  {
   "cell_type": "code",
   "execution_count": 2,
   "id": "98074304",
   "metadata": {},
   "outputs": [
    {
     "data": {
      "text/html": [
       "<div>\n",
       "<style scoped>\n",
       "    .dataframe tbody tr th:only-of-type {\n",
       "        vertical-align: middle;\n",
       "    }\n",
       "\n",
       "    .dataframe tbody tr th {\n",
       "        vertical-align: top;\n",
       "    }\n",
       "\n",
       "    .dataframe thead th {\n",
       "        text-align: right;\n",
       "    }\n",
       "</style>\n",
       "<table border=\"1\" class=\"dataframe\">\n",
       "  <thead>\n",
       "    <tr style=\"text-align: right;\">\n",
       "      <th></th>\n",
       "      <th>Tweet</th>\n",
       "      <th>Label</th>\n",
       "    </tr>\n",
       "  </thead>\n",
       "  <tbody>\n",
       "    <tr>\n",
       "      <th>0</th>\n",
       "      <td>warung ini dimiliki oleh pengusaha pabrik tahu...</td>\n",
       "      <td>positive</td>\n",
       "    </tr>\n",
       "    <tr>\n",
       "      <th>1</th>\n",
       "      <td>mohon ulama lurus dan k mmbri hujjah partai ap...</td>\n",
       "      <td>neutral</td>\n",
       "    </tr>\n",
       "    <tr>\n",
       "      <th>2</th>\n",
       "      <td>lokasi strategis di jalan sumatra bandung temp...</td>\n",
       "      <td>positive</td>\n",
       "    </tr>\n",
       "    <tr>\n",
       "      <th>3</th>\n",
       "      <td>betapa bahagia nya diri ini saat unboxing pake...</td>\n",
       "      <td>positive</td>\n",
       "    </tr>\n",
       "    <tr>\n",
       "      <th>4</th>\n",
       "      <td>aduh jadi mahasiswa jangan sombong dong kasih ...</td>\n",
       "      <td>negative</td>\n",
       "    </tr>\n",
       "  </tbody>\n",
       "</table>\n",
       "</div>"
      ],
      "text/plain": [
       "                                               Tweet     Label\n",
       "0  warung ini dimiliki oleh pengusaha pabrik tahu...  positive\n",
       "1  mohon ulama lurus dan k mmbri hujjah partai ap...   neutral\n",
       "2  lokasi strategis di jalan sumatra bandung temp...  positive\n",
       "3  betapa bahagia nya diri ini saat unboxing pake...  positive\n",
       "4  aduh jadi mahasiswa jangan sombong dong kasih ...  negative"
      ]
     },
     "execution_count": 2,
     "metadata": {},
     "output_type": "execute_result"
    }
   ],
   "source": [
    "# Load dataset from database\n",
    "\n",
    "db = sqlite3.connect('C:/Users/ksreni/belajar_ds/DSC_9_Kelompok 1_Challenge Platinum/database.db', check_same_thread = False)\n",
    "q_data = 'SELECT * FROM data'\n",
    "data = pd.read_sql_query(q_data, db)\n",
    "data.head()"
   ]
  },
  {
   "cell_type": "code",
   "execution_count": 3,
   "id": "5f8aabe6",
   "metadata": {},
   "outputs": [
    {
     "data": {
      "text/plain": [
       "positive    6383\n",
       "negative    3412\n",
       "neutral     1138\n",
       "Name: Label, dtype: int64"
      ]
     },
     "execution_count": 3,
     "metadata": {},
     "output_type": "execute_result"
    }
   ],
   "source": [
    "# Data distribution check\n",
    "\n",
    "data['Label'].value_counts()"
   ]
  },
  {
   "cell_type": "markdown",
   "id": "b2abe03b",
   "metadata": {},
   "source": [
    "## Feature-Label Classification"
   ]
  },
  {
   "cell_type": "code",
   "execution_count": 4,
   "id": "c206c86f",
   "metadata": {},
   "outputs": [],
   "source": [
    "# Oversampling neutral label to be equal with negative label\n",
    "\n",
    "data_pos = data[data['Label']=='positive']\n",
    "data_neu = data[data['Label']=='neutral']\n",
    "data_neg = data[data['Label']=='negative']\n",
    "\n",
    "df_neu = data_neu.sample(data_neg.shape[0], replace = True)\n",
    "\n",
    "data = pd.concat([data_pos, df_neu, data_neg])\n",
    "\n",
    "# Group data tweet\n",
    "\n",
    "pos_tweet = data.loc[data['Label']=='positive'].Tweet.tolist()\n",
    "neg_tweet = data.loc[data['Label']=='negative'].Tweet.tolist()\n",
    "neu_tweet = data.loc[data['Label']=='neutral'].Tweet.tolist()\n",
    "\n",
    "# Group data label\n",
    "\n",
    "pos_label = data.loc[data['Label']=='positive'].Label.tolist()\n",
    "neg_label = data.loc[data['Label']=='negative'].Label.tolist()\n",
    "neu_label = data.loc[data['Label']=='neutral'].Label.tolist()"
   ]
  },
  {
   "cell_type": "code",
   "execution_count": 5,
   "id": "e04ebb7a",
   "metadata": {},
   "outputs": [
    {
     "name": "stdout",
     "output_type": "stream",
     "text": [
      "Positive: 6383, Neutral: 3412, Negative: 3412\n",
      "Total data: 13207\n",
      "Total labels: 13207\n"
     ]
    }
   ],
   "source": [
    "# Final sentiment data check\n",
    "\n",
    "total_data = pos_tweet + neg_tweet + neu_tweet\n",
    "labels = pos_label + neu_label + neg_label\n",
    "\n",
    "print(\"Positive: %s, Neutral: %s, Negative: %s\" % (len(pos_tweet), len(neu_tweet), len(neg_tweet)))\n",
    "print(\"Total data: %s\" % len(total_data))\n",
    "print(\"Total labels: %s\" % len(labels))"
   ]
  },
  {
   "cell_type": "markdown",
   "id": "a9ac6e5f",
   "metadata": {},
   "source": [
    "## Feature Extraction"
   ]
  },
  {
   "cell_type": "code",
   "execution_count": 6,
   "id": "bca677f6",
   "metadata": {},
   "outputs": [
    {
     "name": "stdout",
     "output_type": "stream",
     "text": [
      "tokenizer.pickle has created!\n",
      "x_pad_sequences.pickle has created!\n"
     ]
    }
   ],
   "source": [
    "# Tokenizer and pad sequence\n",
    "\n",
    "max_features = 100000\n",
    "tokenizer = Tokenizer(num_words=max_features, split=' ', lower=True)\n",
    "tokenizer.fit_on_texts(total_data)\n",
    "with open('tokenizer.pickle', 'wb') as handle:\n",
    "    pickle.dump(tokenizer, handle, protocol=pickle.HIGHEST_PROTOCOL)\n",
    "    print(\"tokenizer.pickle has created!\")\n",
    "\n",
    "X = tokenizer.texts_to_sequences(total_data)\n",
    "\n",
    "vocab_size = len(tokenizer.word_index)\n",
    "maxlen = max(len(x) for x in X)\n",
    "\n",
    "X = pad_sequences(X)\n",
    "with open('x_pad_sequences.pickle', 'wb') as handle:\n",
    "    pickle.dump(X, handle, protocol=pickle.HIGHEST_PROTOCOL)\n",
    "    print(\"x_pad_sequences.pickle has created!\")"
   ]
  },
  {
   "cell_type": "code",
   "execution_count": 7,
   "id": "5bea8943",
   "metadata": {},
   "outputs": [
    {
     "name": "stdout",
     "output_type": "stream",
     "text": [
      "y_labels.pickle has created!\n"
     ]
    }
   ],
   "source": [
    "# Feature extraction for labels\n",
    "\n",
    "Y = pd.get_dummies(labels)\n",
    "Y = Y.values\n",
    "\n",
    "with open('y_labels.pickle', 'wb') as handle:\n",
    "    pickle.dump(Y, handle, protocol=pickle.HIGHEST_PROTOCOL)\n",
    "    print(\"y_labels.pickle has created!\")"
   ]
  },
  {
   "cell_type": "markdown",
   "id": "c4f00b64",
   "metadata": {},
   "source": [
    "## Train-Test Data Split"
   ]
  },
  {
   "cell_type": "code",
   "execution_count": 8,
   "id": "70e99d57",
   "metadata": {},
   "outputs": [],
   "source": [
    "# Split train-test data with proportion 80:20\n",
    "\n",
    "file = open(\"x_pad_sequences.pickle\",'rb')\n",
    "X = pickle.load(file)\n",
    "file.close()\n",
    "\n",
    "file = open(\"y_labels.pickle\",'rb')\n",
    "Y = pickle.load(file)\n",
    "file.close()\n",
    "\n",
    "X_train, X_test, y_train, y_test = train_test_split(X, Y, test_size=0.2, random_state=42)"
   ]
  },
  {
   "cell_type": "markdown",
   "id": "1e5c5e43",
   "metadata": {},
   "source": [
    "## Model Training"
   ]
  },
  {
   "cell_type": "code",
   "execution_count": 9,
   "id": "bbe1316a",
   "metadata": {},
   "outputs": [
    {
     "name": "stdout",
     "output_type": "stream",
     "text": [
      "Epoch 1/50\n",
      "331/331 [==============================] - 30s 87ms/step - loss: 0.6271 - accuracy: 0.7396 - val_loss: 0.3541 - val_accuracy: 0.8785\n",
      "Epoch 2/50\n",
      "331/331 [==============================] - 30s 90ms/step - loss: 0.2866 - accuracy: 0.8966 - val_loss: 0.2609 - val_accuracy: 0.9016\n",
      "Epoch 3/50\n",
      "331/331 [==============================] - 29s 88ms/step - loss: 0.1742 - accuracy: 0.9372 - val_loss: 0.2814 - val_accuracy: 0.9042\n",
      "Epoch 4/50\n",
      "331/331 [==============================] - 29s 88ms/step - loss: 0.1344 - accuracy: 0.9523 - val_loss: 0.2357 - val_accuracy: 0.9111\n",
      "Epoch 5/50\n",
      "331/331 [==============================] - 29s 88ms/step - loss: 0.0898 - accuracy: 0.9688 - val_loss: 0.2700 - val_accuracy: 0.9008\n",
      "Epoch 6/50\n",
      "331/331 [==============================] - 29s 89ms/step - loss: 0.0700 - accuracy: 0.9756 - val_loss: 0.2636 - val_accuracy: 0.9035\n",
      "Epoch 6: early stopping\n",
      "83/83 [==============================] - 1s 9ms/step\n",
      "Training ke- 1\n",
      "              precision    recall  f1-score   support\n",
      "\n",
      "           0       0.95      0.97      0.96       662\n",
      "           1       0.87      0.79      0.83       709\n",
      "           2       0.89      0.93      0.91      1271\n",
      "\n",
      "    accuracy                           0.90      2642\n",
      "   macro avg       0.91      0.90      0.90      2642\n",
      "weighted avg       0.90      0.90      0.90      2642\n",
      "\n",
      "======================================================\n",
      "Epoch 1/50\n",
      "331/331 [==============================] - 31s 89ms/step - loss: 0.6643 - accuracy: 0.7099 - val_loss: 0.3982 - val_accuracy: 0.8588\n",
      "Epoch 2/50\n",
      "331/331 [==============================] - 29s 88ms/step - loss: 0.3057 - accuracy: 0.8929 - val_loss: 0.2943 - val_accuracy: 0.8963\n",
      "Epoch 3/50\n",
      "331/331 [==============================] - 29s 88ms/step - loss: 0.1833 - accuracy: 0.9358 - val_loss: 0.2698 - val_accuracy: 0.9054\n",
      "Epoch 4/50\n",
      "331/331 [==============================] - 29s 89ms/step - loss: 0.1228 - accuracy: 0.9566 - val_loss: 0.2687 - val_accuracy: 0.9092\n",
      "Epoch 5/50\n",
      "331/331 [==============================] - 29s 87ms/step - loss: 0.0930 - accuracy: 0.9678 - val_loss: 0.2948 - val_accuracy: 0.9092\n",
      "Epoch 6/50\n",
      "331/331 [==============================] - 29s 87ms/step - loss: 0.0720 - accuracy: 0.9744 - val_loss: 0.3361 - val_accuracy: 0.9050\n",
      "Epoch 6: early stopping\n",
      "83/83 [==============================] - 1s 10ms/step\n",
      "Training ke- 2\n",
      "              precision    recall  f1-score   support\n",
      "\n",
      "           0       1.00      0.99      1.00       662\n",
      "           1       0.96      0.95      0.96       709\n",
      "           2       0.97      0.98      0.98      1271\n",
      "\n",
      "    accuracy                           0.98      2642\n",
      "   macro avg       0.98      0.98      0.98      2642\n",
      "weighted avg       0.98      0.98      0.98      2642\n",
      "\n",
      "======================================================\n",
      "Epoch 1/50\n",
      "331/331 [==============================] - 31s 89ms/step - loss: 0.6378 - accuracy: 0.7264 - val_loss: 0.4174 - val_accuracy: 0.8413\n",
      "Epoch 2/50\n",
      "331/331 [==============================] - 30s 91ms/step - loss: 0.2783 - accuracy: 0.9011 - val_loss: 0.3113 - val_accuracy: 0.8868\n",
      "Epoch 3/50\n",
      "331/331 [==============================] - 30s 90ms/step - loss: 0.1753 - accuracy: 0.9397 - val_loss: 0.2705 - val_accuracy: 0.9000\n",
      "Epoch 4/50\n",
      "331/331 [==============================] - 30s 91ms/step - loss: 0.1204 - accuracy: 0.9578 - val_loss: 0.2693 - val_accuracy: 0.8970\n",
      "Epoch 5/50\n",
      "331/331 [==============================] - 29s 88ms/step - loss: 0.0962 - accuracy: 0.9663 - val_loss: 0.3187 - val_accuracy: 0.8875\n",
      "Epoch 6/50\n",
      "331/331 [==============================] - 29s 87ms/step - loss: 0.0728 - accuracy: 0.9750 - val_loss: 0.3201 - val_accuracy: 0.8947\n",
      "Epoch 6: early stopping\n",
      "83/83 [==============================] - 1s 9ms/step\n",
      "Training ke- 3\n",
      "              precision    recall  f1-score   support\n",
      "\n",
      "           0       1.00      0.99      1.00       662\n",
      "           1       0.97      0.95      0.96       709\n",
      "           2       0.97      0.98      0.98      1271\n",
      "\n",
      "    accuracy                           0.98      2642\n",
      "   macro avg       0.98      0.98      0.98      2642\n",
      "weighted avg       0.98      0.98      0.98      2642\n",
      "\n",
      "======================================================\n",
      "Epoch 1/50\n",
      "331/331 [==============================] - 31s 89ms/step - loss: 0.6321 - accuracy: 0.7376 - val_loss: 0.3860 - val_accuracy: 0.8607\n",
      "Epoch 2/50\n",
      "331/331 [==============================] - 29s 88ms/step - loss: 0.2948 - accuracy: 0.8945 - val_loss: 0.2910 - val_accuracy: 0.8966\n",
      "Epoch 3/50\n",
      "331/331 [==============================] - 29s 88ms/step - loss: 0.1852 - accuracy: 0.9349 - val_loss: 0.2689 - val_accuracy: 0.9027\n",
      "Epoch 4/50\n",
      "331/331 [==============================] - 29s 88ms/step - loss: 0.1271 - accuracy: 0.9575 - val_loss: 0.2579 - val_accuracy: 0.9053\n",
      "Epoch 5/50\n",
      "331/331 [==============================] - 29s 88ms/step - loss: 0.0928 - accuracy: 0.9673 - val_loss: 0.2783 - val_accuracy: 0.9053\n",
      "Epoch 6/50\n",
      "331/331 [==============================] - 29s 89ms/step - loss: 0.0735 - accuracy: 0.9722 - val_loss: 0.3063 - val_accuracy: 0.9016\n",
      "Epoch 6: early stopping\n",
      "83/83 [==============================] - 1s 9ms/step\n",
      "Training ke- 4\n",
      "              precision    recall  f1-score   support\n",
      "\n",
      "           0       1.00      0.99      1.00       662\n",
      "           1       0.97      0.96      0.97       709\n",
      "           2       0.98      0.98      0.98      1271\n",
      "\n",
      "    accuracy                           0.98      2642\n",
      "   macro avg       0.98      0.98      0.98      2642\n",
      "weighted avg       0.98      0.98      0.98      2642\n",
      "\n",
      "======================================================\n",
      "Epoch 1/50\n",
      "331/331 [==============================] - 37s 106ms/step - loss: 0.6412 - accuracy: 0.7233 - val_loss: 0.4111 - val_accuracy: 0.8485\n",
      "Epoch 2/50\n",
      "331/331 [==============================] - 35s 105ms/step - loss: 0.2825 - accuracy: 0.8986 - val_loss: 0.3025 - val_accuracy: 0.8928\n",
      "Epoch 3/50\n",
      "331/331 [==============================] - 35s 105ms/step - loss: 0.1797 - accuracy: 0.9372 - val_loss: 0.2552 - val_accuracy: 0.9065\n",
      "Epoch 4/50\n",
      "331/331 [==============================] - 35s 106ms/step - loss: 0.1231 - accuracy: 0.9557 - val_loss: 0.2639 - val_accuracy: 0.9118\n",
      "Epoch 5/50\n",
      "331/331 [==============================] - 35s 107ms/step - loss: 0.0940 - accuracy: 0.9662 - val_loss: 0.2922 - val_accuracy: 0.8966\n",
      "Epoch 5: early stopping\n",
      "83/83 [==============================] - 2s 14ms/step\n",
      "Training ke- 5\n",
      "              precision    recall  f1-score   support\n",
      "\n",
      "           0       1.00      0.99      0.99       662\n",
      "           1       0.97      0.92      0.95       709\n",
      "           2       0.96      0.98      0.97      1271\n",
      "\n",
      "    accuracy                           0.97      2642\n",
      "   macro avg       0.97      0.97      0.97      2642\n",
      "weighted avg       0.97      0.97      0.97      2642\n",
      "\n",
      "======================================================\n",
      "\n",
      "\n",
      "\n",
      "Rata-rata Accuracy:  0.9612\n"
     ]
    }
   ],
   "source": [
    "##### Model training and cross validation\n",
    "\n",
    "kf = KFold(n_splits=5,random_state=42,shuffle=True)\n",
    "\n",
    "accuracies = []\n",
    "\n",
    "y = Y\n",
    "\n",
    "embed_dim = 100\n",
    "units = 64\n",
    "\n",
    "for iteration, data in enumerate(kf.split(X), start=1):\n",
    "\n",
    "    data_train   = X[data[0]]\n",
    "    target_train = y[data[0]]\n",
    "\n",
    "    data_test    = X[data[1]]\n",
    "    target_test  = y[data[1]]\n",
    "    \n",
    "    # Create model architecture\n",
    "\n",
    "    model = Sequential()\n",
    "    model.add(Embedding(max_features, embed_dim, input_length=X.shape[1]))\n",
    "    model.add(LSTM(units, dropout=0.5))\n",
    "    model.add(Dense(3,activation='softmax'))\n",
    "    # model.compile(loss = 'binary_crossentropy', optimizer='adam', metrics = ['accuracy'])\n",
    "\n",
    "    adam = optimizers.Adam(learning_rate = 0.0005)\n",
    "    model.compile(loss = 'categorical_crossentropy', optimizer = adam, metrics = ['accuracy'])\n",
    "\n",
    "    es = EarlyStopping(monitor='val_loss', mode='min', verbose=1, patience=2)\n",
    "    history = model.fit(data_train, target_train, epochs=50, batch_size=32, \n",
    "                        validation_data=(data_test, target_test), verbose=1, callbacks=[es])\n",
    "\n",
    "    predictions = model.predict(X_test)\n",
    "    y_pred = predictions\n",
    "\n",
    "    # for the current fold only\n",
    "    \n",
    "    accuracy = accuracy_score(y_test.argmax(axis=1), y_pred.argmax(axis=1))\n",
    "\n",
    "    print(\"Training ke-\", iteration)\n",
    "    print(classification_report(y_test.argmax(axis=1), y_pred.argmax(axis=1)))\n",
    "    print(\"======================================================\")\n",
    "\n",
    "    accuracies.append(accuracy)\n",
    "\n",
    "# this is the average accuracy over all folds\n",
    "\n",
    "average_accuracy = np.mean(accuracies)\n",
    "\n",
    "print()\n",
    "print()\n",
    "print()\n",
    "print(\"Rata-rata Accuracy: \", round(average_accuracy,4))"
   ]
  },
  {
   "cell_type": "markdown",
   "id": "c7ebb253",
   "metadata": {},
   "source": [
    "## Evaluation"
   ]
  },
  {
   "cell_type": "code",
   "execution_count": 10,
   "id": "68c6496c",
   "metadata": {},
   "outputs": [
    {
     "data": {
      "image/png": "[encoded data removed]",
      "text/plain": [
       "<Figure size 2400x700 with 2 Axes>"
      ]
     },
     "metadata": {},
     "output_type": "display_data"
    }
   ],
   "source": [
    "# Visualize it\n",
    "\n",
    "plt.style.use('ggplot')\n",
    "\n",
    "def plot_history(history):\n",
    "    acc = history.history['accuracy']\n",
    "    val_acc = history.history['val_accuracy']\n",
    "    loss = history.history['loss']\n",
    "    val_loss = history.history['val_loss']\n",
    "    x = range(1, len(acc) + 1)\n",
    "\n",
    "    plt.figure(figsize=(24, 7))\n",
    "    plt.subplot(1, 2, 1)\n",
    "    plt.plot(x, acc, 'b', label='Training acc')\n",
    "    plt.plot(x, val_acc, 'r', label='Validation acc')\n",
    "    plt.title('Training and validation accuracy')\n",
    "    plt.legend()\n",
    "    plt.subplot(1, 2, 2)\n",
    "    plt.plot(x, loss, 'b', label='Training loss')\n",
    "    plt.plot(x, val_loss, 'r', label='Validation loss')\n",
    "    plt.title('Training and validation loss')\n",
    "    plt.legend()\n",
    "\n",
    "%matplotlib inline\n",
    "plot_history(history)"
   ]
  },
  {
   "cell_type": "markdown",
   "id": "bb616cd9-ec70-4333-86a9-470651be1104",
   "metadata": {},
   "source": [
    "Setelah 5 kali training dengan epoch masing-masing berhenti di epoch ke 5, didapatkan rata-rata akurasi model senilai 96.1%"
   ]
  },
  {
   "cell_type": "code",
   "execution_count": 11,
   "id": "9628d7c8",
   "metadata": {},
   "outputs": [
    {
     "name": "stdout",
     "output_type": "stream",
     "text": [
      "Model has created!\n"
     ]
    },
    {
     "name": "stderr",
     "output_type": "stream",
     "text": [
      "C:\\Users\\ksreni\\AppData\\Local\\Programs\\Python\\Python310\\lib\\site-packages\\keras\\src\\engine\\training.py:3000: UserWarning: You are saving your model as an HDF5 file via `model.save()`. This file format is considered legacy. We recommend using instead the native Keras format, e.g. `model.save('my_model.keras')`.\n",
      "  saving_api.save_model(\n"
     ]
    }
   ],
   "source": [
    "# Save the model\n",
    "\n",
    "model.save('model.h5')\n",
    "print(\"Model has created!\")"
   ]
  },
  {
   "cell_type": "markdown",
   "id": "6ef92be3",
   "metadata": {},
   "source": [
    "## Prediction"
   ]
  },
  {
   "cell_type": "code",
   "execution_count": 12,
   "id": "2de025dc",
   "metadata": {},
   "outputs": [
    {
     "name": "stdout",
     "output_type": "stream",
     "text": [
      "1/1 [==============================] - 0s 428ms/step\n",
      "Text:  rasanya enak  \n",
      "Sentiment: positive\n"
     ]
    }
   ],
   "source": [
    "input_text = \"\"\"\n",
    "rasanya enak  \"\"\"\n",
    "\n",
    "def cleansing(sent):\n",
    "    string = sent.lower()\n",
    "    string = re.sub(r'[^a-zA-Z0-9]', ' ', string)\n",
    "    return string\n",
    "\n",
    "sentiment = ['negative', 'neutral', 'positive']\n",
    "\n",
    "text = [cleansing(input_text)]\n",
    "predicted = tokenizer.texts_to_sequences(text)\n",
    "guess = pad_sequences(predicted, maxlen=X.shape[1])\n",
    "\n",
    "model = load_model('model.h5')\n",
    "prediction = model.predict(guess)\n",
    "polarity = np.argmax(prediction[0])\n",
    "hasil = sentiment[polarity]\n",
    "\n",
    "print(\"Text: %s\" % text[0])\n",
    "print(\"Sentiment: %s\" % sentiment[polarity])"
   ]
  },
  {
   "cell_type": "code",
   "execution_count": 18,
   "id": "597a5ce6",
   "metadata": {},
   "outputs": [
    {
     "name": "stdout",
     "output_type": "stream",
     "text": [
      "1/1 [==============================] - 0s 259ms/step\n",
      "Text:  mobil butut    \n",
      "Sentiment: neutral\n"
     ]
    }
   ],
   "source": [
    "input_text = \"\"\"\n",
    "mobil butut?!  \"\"\"\n",
    "\n",
    "def cleansing(sent):\n",
    "    string = sent.lower()\n",
    "    string = re.sub(r'[^a-zA-Z0-9]', ' ', string)\n",
    "    return string\n",
    "\n",
    "sentiment = ['negative', 'neutral', 'positive']\n",
    "\n",
    "text = [cleansing(input_text)]\n",
    "predicted = tokenizer.texts_to_sequences(text)\n",
    "guess = pad_sequences(predicted, maxlen=X.shape[1])\n",
    "\n",
    "model = load_model('model.h5')\n",
    "prediction = model.predict(guess)\n",
    "polarity = np.argmax(prediction[0])\n",
    "hasil = sentiment[polarity]\n",
    "\n",
    "print(\"Text: %s\" % text[0])\n",
    "print(\"Sentiment: %s\" % sentiment[polarity])"
   ]
  },
  {
   "cell_type": "code",
   "execution_count": 16,
   "id": "68002bfa-b268-4797-8a3a-6c541d5957a7",
   "metadata": {},
   "outputs": [
    {
     "name": "stdout",
     "output_type": "stream",
     "text": [
      "WARNING:tensorflow:6 out of the last 88 calls to <function Model.make_predict_function.<locals>.predict_function at 0x000001F924DA08B0> triggered tf.function retracing. Tracing is expensive and the excessive number of tracings could be due to (1) creating @tf.function repeatedly in a loop, (2) passing tensors with different shapes, (3) passing Python objects instead of tensors. For (1), please define your @tf.function outside of the loop. For (2), @tf.function has reduce_retracing=True option that can avoid unnecessary retracing. For (3), please refer to https://www.tensorflow.org/guide/function#controlling_retracing and https://www.tensorflow.org/api_docs/python/tf/function for  more details.\n",
      "1/1 [==============================] - 0s 443ms/step\n",
      "Text:  tidak enak  \n",
      "Sentiment: positive\n"
     ]
    }
   ],
   "source": [
    "input_text = \"\"\"\n",
    "tidak enak  \"\"\"\n",
    "\n",
    "def cleansing(sent):\n",
    "    string = sent.lower()\n",
    "    string = re.sub(r'[^a-zA-Z0-9]', ' ', string)\n",
    "    return string\n",
    "\n",
    "sentiment = ['negative', 'neutral', 'positive']\n",
    "\n",
    "text = [cleansing(input_text)]\n",
    "predicted = tokenizer.texts_to_sequences(text)\n",
    "guess = pad_sequences(predicted, maxlen=X.shape[1])\n",
    "\n",
    "model = load_model('model.h5')\n",
    "prediction = model.predict(guess)\n",
    "polarity = np.argmax(prediction[0])\n",
    "hasil = sentiment[polarity]\n",
    "\n",
    "print(\"Text: %s\" % text[0])\n",
    "print(\"Sentiment: %s\" % sentiment[polarity])"
   ]
  },
  {
   "cell_type": "code",
   "execution_count": null,
   "id": "460385c4-5d7b-42b3-93a5-e69f7da7dc73",
   "metadata": {},
   "outputs": [],
   "source": []
  }
 ],
 "metadata": {
  "kernelspec": {
   "display_name": "Python 3 (ipykernel)",
   "language": "python",
   "name": "python3"
  },
  "language_info": {
   "codemirror_mode": {
    "name": "ipython",
    "version": 3
   },
   "file_extension": ".py",
   "mimetype": "text/x-python",
   "name": "python",
   "nbconvert_exporter": "python",
   "pygments_lexer": "ipython3",
   "version": "3.10.7"
  }
 },
 "nbformat": 4,
 "nbformat_minor": 5
}
