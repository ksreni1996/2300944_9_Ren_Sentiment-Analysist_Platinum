{
 "cells": [
  {
   "cell_type": "markdown",
   "id": "254631f5",
   "metadata": {},
   "source": [
    "# Recurent Neural Network (RNN)"
   ]
  },
  {
   "cell_type": "markdown",
   "id": "6658ef89",
   "metadata": {},
   "source": [
    "## Load Libraries and Dataset"
   ]
  },
  {
   "cell_type": "code",
   "execution_count": 1,
   "id": "09e35254",
   "metadata": {},
   "outputs": [],
   "source": [
    "# Import required libraries\n",
    "\n",
    "import pandas as pd\n",
    "import numpy as np\n",
    "import seaborn as sns\n",
    "import matplotlib.pyplot as plt\n",
    "import sqlite3\n",
    "import pickle\n",
    "from tensorflow.keras.preprocessing.text import Tokenizer\n",
    "from tensorflow.keras.preprocessing.sequence import pad_sequences\n",
    "from collections import defaultdict\n",
    "from sklearn.model_selection import train_test_split\n",
    "from tensorflow.keras import layers\n",
    "from tensorflow.keras.models import Sequential\n",
    "from tensorflow.keras.layers import Dense, Embedding, LSTM, SpatialDropout1D, SimpleRNN, Activation\n",
    "from tensorflow.keras import optimizers\n",
    "from tensorflow.keras.callbacks import EarlyStopping, TensorBoard\n",
    "from tensorflow.keras.layers import Flatten\n",
    "from tensorflow.keras import backend as K\n",
    "from sklearn import metrics\n",
    "from sklearn.metrics import classification_report\n",
    "from sklearn.metrics import accuracy_score\n",
    "from sklearn.model_selection import KFold\n",
    "from keras.models import load_model\n",
    "import re"
   ]
  },
  {
   "cell_type": "code",
   "execution_count": 2,
   "id": "98074304",
   "metadata": {},
   "outputs": [
    {
     "data": {
      "text/html": [
       "<div>\n",
       "<style scoped>\n",
       "    .dataframe tbody tr th:only-of-type {\n",
       "        vertical-align: middle;\n",
       "    }\n",
       "\n",
       "    .dataframe tbody tr th {\n",
       "        vertical-align: top;\n",
       "    }\n",
       "\n",
       "    .dataframe thead th {\n",
       "        text-align: right;\n",
       "    }\n",
       "</style>\n",
       "<table border=\"1\" class=\"dataframe\">\n",
       "  <thead>\n",
       "    <tr style=\"text-align: right;\">\n",
       "      <th></th>\n",
       "      <th>Tweet</th>\n",
       "      <th>Label</th>\n",
       "    </tr>\n",
       "  </thead>\n",
       "  <tbody>\n",
       "    <tr>\n",
       "      <th>0</th>\n",
       "      <td>warung ini dimiliki oleh pengusaha pabrik tahu...</td>\n",
       "      <td>positive</td>\n",
       "    </tr>\n",
       "    <tr>\n",
       "      <th>1</th>\n",
       "      <td>mohon ulama lurus dan k mmbri hujjah partai ap...</td>\n",
       "      <td>neutral</td>\n",
       "    </tr>\n",
       "    <tr>\n",
       "      <th>2</th>\n",
       "      <td>lokasi strategis di jalan sumatra bandung temp...</td>\n",
       "      <td>positive</td>\n",
       "    </tr>\n",
       "    <tr>\n",
       "      <th>3</th>\n",
       "      <td>betapa bahagia nya diri ini saat unboxing pake...</td>\n",
       "      <td>positive</td>\n",
       "    </tr>\n",
       "    <tr>\n",
       "      <th>4</th>\n",
       "      <td>aduh jadi mahasiswa jangan sombong dong kasih ...</td>\n",
       "      <td>negative</td>\n",
       "    </tr>\n",
       "  </tbody>\n",
       "</table>\n",
       "</div>"
      ],
      "text/plain": [
       "                                               Tweet     Label\n",
       "0  warung ini dimiliki oleh pengusaha pabrik tahu...  positive\n",
       "1  mohon ulama lurus dan k mmbri hujjah partai ap...   neutral\n",
       "2  lokasi strategis di jalan sumatra bandung temp...  positive\n",
       "3  betapa bahagia nya diri ini saat unboxing pake...  positive\n",
       "4  aduh jadi mahasiswa jangan sombong dong kasih ...  negative"
      ]
     },
     "execution_count": 2,
     "metadata": {},
     "output_type": "execute_result"
    }
   ],
   "source": [
    "# Load dataset from database\n",
    "\n",
    "db = sqlite3.connect(\"C:/Users/ksreni/belajar_ds/DSC_9_Kelompok 1_Challenge Platinum/database.db\", check_same_thread = False)\n",
    "q_data = 'SELECT * FROM data'\n",
    "data = pd.read_sql_query(q_data, db)\n",
    "data.head()"
   ]
  },
  {
   "cell_type": "code",
   "execution_count": 3,
   "id": "5f8aabe6",
   "metadata": {},
   "outputs": [
    {
     "data": {
      "text/plain": [
       "positive    6383\n",
       "negative    3412\n",
       "neutral     1138\n",
       "Name: Label, dtype: int64"
      ]
     },
     "execution_count": 3,
     "metadata": {},
     "output_type": "execute_result"
    }
   ],
   "source": [
    "# Data distribution check\n",
    "\n",
    "data['Label'].value_counts()"
   ]
  },
  {
   "cell_type": "markdown",
   "id": "2a81f1eb",
   "metadata": {},
   "source": [
    "## Feature-Label Classification"
   ]
  },
  {
   "cell_type": "code",
   "execution_count": 4,
   "id": "40cadbba",
   "metadata": {},
   "outputs": [],
   "source": [
    "# Group data tweet\n",
    "\n",
    "pos_tweet = data.loc[data['Label']=='positive'].Tweet.tolist()\n",
    "neg_tweet = data.loc[data['Label']=='negative'].Tweet.tolist()\n",
    "neu_tweet = data.loc[data['Label']=='neutral'].Tweet.tolist()\n",
    "\n",
    "# Group data label\n",
    "\n",
    "pos_label = data.loc[data['Label']=='positive'].Label.tolist()\n",
    "neg_label = data.loc[data['Label']=='negative'].Label.tolist()\n",
    "neu_label = data.loc[data['Label']=='neutral'].Label.tolist()"
   ]
  },
  {
   "cell_type": "code",
   "execution_count": 5,
   "id": "e04ebb7a",
   "metadata": {},
   "outputs": [
    {
     "name": "stdout",
     "output_type": "stream",
     "text": [
      "Positive: 6383, Negative: 1138, Neutral: 3412\n",
      "Total data: 10933\n",
      "Total labels: 10933\n"
     ]
    }
   ],
   "source": [
    "# Final sentiment data check\n",
    "\n",
    "total_data = pos_tweet + neg_tweet + neu_tweet\n",
    "labels = pos_label + neu_label + neg_label\n",
    "\n",
    "print(\"Positive: %s, Negative: %s, Neutral: %s\" % (len(pos_tweet), len(neu_tweet), len(neg_tweet)))\n",
    "print(\"Total data: %s\" % len(total_data))\n",
    "print(\"Total labels: %s\" % len(labels))"
   ]
  },
  {
   "cell_type": "markdown",
   "id": "a9ac6e5f",
   "metadata": {},
   "source": [
    "## Feature Extraction"
   ]
  },
  {
   "cell_type": "code",
   "execution_count": 6,
   "id": "bca677f6",
   "metadata": {},
   "outputs": [
    {
     "name": "stdout",
     "output_type": "stream",
     "text": [
      "tokenizer.pickle has created!\n",
      "x_pad_sequences.pickle has created!\n"
     ]
    }
   ],
   "source": [
    "# Tokenizer and pad sequence\n",
    "\n",
    "max_features = 100000\n",
    "tokenizer = Tokenizer(num_words=max_features, split=' ', lower=True)\n",
    "tokenizer.fit_on_texts(total_data)\n",
    "with open('tokenizer.pickle', 'wb') as handle:\n",
    "    pickle.dump(tokenizer, handle, protocol=pickle.HIGHEST_PROTOCOL)\n",
    "    print(\"tokenizer.pickle has created!\")\n",
    "\n",
    "X = tokenizer.texts_to_sequences(total_data)\n",
    "\n",
    "vocab_size = len(tokenizer.word_index)\n",
    "maxlen = max(len(x) for x in X)\n",
    "\n",
    "X = pad_sequences(X)\n",
    "with open('x_pad_sequences.pickle', 'wb') as handle:\n",
    "    pickle.dump(X, handle, protocol=pickle.HIGHEST_PROTOCOL)\n",
    "    print(\"x_pad_sequences.pickle has created!\")"
   ]
  },
  {
   "cell_type": "code",
   "execution_count": 7,
   "id": "5bea8943",
   "metadata": {},
   "outputs": [
    {
     "name": "stdout",
     "output_type": "stream",
     "text": [
      "y_labels.pickle has created!\n"
     ]
    }
   ],
   "source": [
    "# Feature extraction for labels\n",
    "\n",
    "Y = pd.get_dummies(labels)\n",
    "Y = Y.values\n",
    "\n",
    "with open('y_labels.pickle', 'wb') as handle:\n",
    "    pickle.dump(Y, handle, protocol=pickle.HIGHEST_PROTOCOL)\n",
    "    print(\"y_labels.pickle has created!\")"
   ]
  },
  {
   "cell_type": "markdown",
   "id": "c4f00b64",
   "metadata": {},
   "source": [
    "## Train-Test Data Split"
   ]
  },
  {
   "cell_type": "code",
   "execution_count": 8,
   "id": "70e99d57",
   "metadata": {},
   "outputs": [],
   "source": [
    "# Split train-test data with proportion 80:20\n",
    "\n",
    "file = open(\"x_pad_sequences.pickle\",'rb')\n",
    "X = pickle.load(file)\n",
    "file.close()\n",
    "\n",
    "file = open(\"y_labels.pickle\",'rb')\n",
    "Y = pickle.load(file)\n",
    "file.close()\n",
    "\n",
    "X_train, X_test, y_train, y_test = train_test_split(X, Y, test_size=0.2, random_state=42)"
   ]
  },
  {
   "cell_type": "markdown",
   "id": "1e5c5e43",
   "metadata": {},
   "source": [
    "## Model Training"
   ]
  },
  {
   "cell_type": "code",
   "execution_count": 9,
   "id": "c66820fe",
   "metadata": {},
   "outputs": [
    {
     "name": "stdout",
     "output_type": "stream",
     "text": [
      "Epoch 1/50\n",
      "274/274 [==============================] - 23s 78ms/step - loss: 0.7319 - accuracy: 0.7011 - val_loss: 0.6350 - val_accuracy: 0.7581\n",
      "Epoch 2/50\n",
      "274/274 [==============================] - 21s 76ms/step - loss: 0.5444 - accuracy: 0.7896 - val_loss: 0.5403 - val_accuracy: 0.7961\n",
      "Epoch 3/50\n",
      "274/274 [==============================] - 21s 77ms/step - loss: 0.4648 - accuracy: 0.8181 - val_loss: 0.5216 - val_accuracy: 0.7993\n",
      "Epoch 4/50\n",
      "274/274 [==============================] - 21s 76ms/step - loss: 0.4076 - accuracy: 0.8356 - val_loss: 0.5111 - val_accuracy: 0.7993\n",
      "Epoch 5/50\n",
      "274/274 [==============================] - 21s 75ms/step - loss: 0.3441 - accuracy: 0.8613 - val_loss: 0.5177 - val_accuracy: 0.7810\n",
      "Epoch 6/50\n",
      "274/274 [==============================] - 21s 75ms/step - loss: 0.2996 - accuracy: 0.8869 - val_loss: 0.5498 - val_accuracy: 0.7924\n",
      "Epoch 6: early stopping\n",
      "69/69 [==============================] - 0s 4ms/step\n",
      "Training ke- 1\n",
      "              precision    recall  f1-score   support\n",
      "\n",
      "           0       0.68      0.76      0.72       681\n",
      "           1       0.31      0.07      0.12       235\n",
      "           2       0.87      0.94      0.91      1271\n",
      "\n",
      "    accuracy                           0.79      2187\n",
      "   macro avg       0.62      0.59      0.58      2187\n",
      "weighted avg       0.75      0.79      0.76      2187\n",
      "\n",
      "======================================================\n",
      "Epoch 1/50\n",
      "274/274 [==============================] - 22s 76ms/step - loss: 0.7745 - accuracy: 0.6860 - val_loss: 0.6144 - val_accuracy: 0.7755\n",
      "Epoch 2/50\n",
      "274/274 [==============================] - 21s 76ms/step - loss: 0.5352 - accuracy: 0.7956 - val_loss: 0.5314 - val_accuracy: 0.7897\n",
      "Epoch 3/50\n",
      "274/274 [==============================] - 21s 75ms/step - loss: 0.4664 - accuracy: 0.8173 - val_loss: 0.5196 - val_accuracy: 0.7974\n",
      "Epoch 4/50\n",
      "274/274 [==============================] - 21s 76ms/step - loss: 0.4187 - accuracy: 0.8307 - val_loss: 0.5233 - val_accuracy: 0.7942\n",
      "Epoch 5/50\n",
      "274/274 [==============================] - 21s 76ms/step - loss: 0.3652 - accuracy: 0.8511 - val_loss: 0.5069 - val_accuracy: 0.7952\n",
      "Epoch 6/50\n",
      "274/274 [==============================] - 21s 75ms/step - loss: 0.3150 - accuracy: 0.8780 - val_loss: 0.5423 - val_accuracy: 0.7942\n",
      "Epoch 7/50\n",
      "274/274 [==============================] - 21s 77ms/step - loss: 0.2688 - accuracy: 0.8982 - val_loss: 0.5719 - val_accuracy: 0.7933\n",
      "Epoch 7: early stopping\n",
      "69/69 [==============================] - 0s 4ms/step\n",
      "Training ke- 2\n",
      "              precision    recall  f1-score   support\n",
      "\n",
      "           0       0.66      0.81      0.73       681\n",
      "           1       0.23      0.04      0.07       235\n",
      "           2       0.89      0.92      0.91      1271\n",
      "\n",
      "    accuracy                           0.79      2187\n",
      "   macro avg       0.60      0.59      0.57      2187\n",
      "weighted avg       0.75      0.79      0.76      2187\n",
      "\n",
      "======================================================\n",
      "Epoch 1/50\n",
      "274/274 [==============================] - 23s 78ms/step - loss: 0.7211 - accuracy: 0.7111 - val_loss: 0.6447 - val_accuracy: 0.7348\n",
      "Epoch 2/50\n",
      "274/274 [==============================] - 21s 77ms/step - loss: 0.5414 - accuracy: 0.7876 - val_loss: 0.5432 - val_accuracy: 0.7842\n",
      "Epoch 3/50\n",
      "274/274 [==============================] - 21s 76ms/step - loss: 0.4732 - accuracy: 0.8143 - val_loss: 0.5234 - val_accuracy: 0.7961\n",
      "Epoch 4/50\n",
      "274/274 [==============================] - 21s 76ms/step - loss: 0.4181 - accuracy: 0.8306 - val_loss: 0.5229 - val_accuracy: 0.7984\n",
      "Epoch 5/50\n",
      "274/274 [==============================] - 21s 78ms/step - loss: 0.3712 - accuracy: 0.8471 - val_loss: 0.5232 - val_accuracy: 0.7942\n",
      "Epoch 6/50\n",
      "274/274 [==============================] - 21s 78ms/step - loss: 0.3183 - accuracy: 0.8765 - val_loss: 0.5304 - val_accuracy: 0.7984\n",
      "Epoch 6: early stopping\n",
      "69/69 [==============================] - 0s 4ms/step\n",
      "Training ke- 3\n",
      "              precision    recall  f1-score   support\n",
      "\n",
      "           0       0.65      0.85      0.74       681\n",
      "           1       0.15      0.01      0.02       235\n",
      "           2       0.91      0.91      0.91      1271\n",
      "\n",
      "    accuracy                           0.80      2187\n",
      "   macro avg       0.57      0.59      0.56      2187\n",
      "weighted avg       0.75      0.80      0.76      2187\n",
      "\n",
      "======================================================\n",
      "Epoch 1/50\n",
      "274/274 [==============================] - 22s 78ms/step - loss: 0.8432 - accuracy: 0.6274 - val_loss: 0.6118 - val_accuracy: 0.7677\n",
      "Epoch 2/50\n",
      "274/274 [==============================] - 22s 82ms/step - loss: 0.5620 - accuracy: 0.7848 - val_loss: 0.5400 - val_accuracy: 0.7897\n",
      "Epoch 3/50\n",
      "274/274 [==============================] - 22s 81ms/step - loss: 0.4729 - accuracy: 0.8123 - val_loss: 0.5132 - val_accuracy: 0.7961\n",
      "Epoch 4/50\n",
      "274/274 [==============================] - 22s 81ms/step - loss: 0.4158 - accuracy: 0.8320 - val_loss: 0.5361 - val_accuracy: 0.7901\n",
      "Epoch 5/50\n",
      "274/274 [==============================] - 22s 81ms/step - loss: 0.3581 - accuracy: 0.8560 - val_loss: 0.5712 - val_accuracy: 0.7837\n",
      "Epoch 5: early stopping\n",
      "69/69 [==============================] - 0s 4ms/step\n",
      "Training ke- 4\n",
      "              precision    recall  f1-score   support\n",
      "\n",
      "           0       0.62      0.90      0.73       681\n",
      "           1       0.00      0.00      0.00       235\n",
      "           2       0.92      0.87      0.89      1271\n",
      "\n",
      "    accuracy                           0.78      2187\n",
      "   macro avg       0.51      0.59      0.54      2187\n",
      "weighted avg       0.73      0.78      0.75      2187\n",
      "\n",
      "======================================================\n",
      "Epoch 1/50\n",
      "274/274 [==============================] - 24s 84ms/step - loss: 0.7931 - accuracy: 0.6710 - val_loss: 0.6210 - val_accuracy: 0.7677\n",
      "Epoch 2/50\n",
      "274/274 [==============================] - 23s 82ms/step - loss: 0.5478 - accuracy: 0.7924 - val_loss: 0.5459 - val_accuracy: 0.7915\n",
      "Epoch 3/50\n",
      "274/274 [==============================] - 24s 88ms/step - loss: 0.4713 - accuracy: 0.8121 - val_loss: 0.5129 - val_accuracy: 0.7961\n",
      "Epoch 4/50\n",
      "274/274 [==============================] - 24s 86ms/step - loss: 0.4072 - accuracy: 0.8358 - val_loss: 0.5323 - val_accuracy: 0.7947\n",
      "Epoch 5/50\n",
      "274/274 [==============================] - 23s 83ms/step - loss: 0.3574 - accuracy: 0.8566 - val_loss: 0.5447 - val_accuracy: 0.7892\n",
      "Epoch 5: early stopping\n",
      "69/69 [==============================] - 0s 4ms/step\n",
      "Training ke- 5\n",
      "              precision    recall  f1-score   support\n",
      "\n",
      "           0       0.66      0.81      0.72       681\n",
      "           1       0.19      0.02      0.04       235\n",
      "           2       0.89      0.92      0.90      1271\n",
      "\n",
      "    accuracy                           0.79      2187\n",
      "   macro avg       0.58      0.58      0.56      2187\n",
      "weighted avg       0.74      0.79      0.75      2187\n",
      "\n",
      "======================================================\n",
      "\n",
      "\n",
      "\n",
      "Rata-rata Accuracy:  0.7914\n"
     ]
    }
   ],
   "source": [
    "# Model training and cross validation\n",
    "\n",
    "kf = KFold(n_splits=5,random_state=42,shuffle=True)\n",
    "\n",
    "accuracies = []\n",
    "\n",
    "y = Y\n",
    "\n",
    "embed_dim = 100\n",
    "units = 64\n",
    "\n",
    "for iteration, data in enumerate(kf.split(X), start=1):\n",
    "\n",
    "    data_train   = X[data[0]]\n",
    "    target_train = y[data[0]]\n",
    "\n",
    "    data_test    = X[data[1]]\n",
    "    target_test  = y[data[1]]\n",
    "    \n",
    "    # Create model architecture\n",
    "\n",
    "    model = Sequential()\n",
    "    model.add(Embedding(max_features, embed_dim, input_length=X.shape[1]))\n",
    "    model.add(SimpleRNN(units, dropout=0.8))\n",
    "    model.add(Dense(3,activation='softmax'))\n",
    "    # model.compile(loss = 'binary_crossentropy', optimizer='adam', metrics = ['accuracy'])\n",
    "\n",
    "    adam = optimizers.Adam(learning_rate = 0.0005)\n",
    "    model.compile(loss = 'categorical_crossentropy', optimizer = adam, metrics = ['accuracy'])\n",
    "\n",
    "    es = EarlyStopping(monitor='val_loss', mode='min', verbose=1, patience=2)\n",
    "    history = model.fit(X_train, y_train, epochs=50, batch_size=32, \n",
    "                        validation_data=(X_test, y_test), verbose=1, callbacks=[es])\n",
    "\n",
    "    predictions = model.predict(X_test)\n",
    "    y_pred = predictions\n",
    "\n",
    "    # for the current fold only\n",
    "    \n",
    "    accuracy = accuracy_score(y_test.argmax(axis=1), y_pred.argmax(axis=1))\n",
    "\n",
    "    print(\"Training ke-\", iteration)\n",
    "    print(classification_report(y_test.argmax(axis=1), y_pred.argmax(axis=1)))\n",
    "    print(\"======================================================\")\n",
    "\n",
    "    accuracies.append(accuracy)\n",
    "\n",
    "# this is the average accuracy over all folds\n",
    "\n",
    "average_accuracy = np.mean(accuracies)\n",
    "\n",
    "print()\n",
    "print()\n",
    "print()\n",
    "print(\"Rata-rata Accuracy: \", round(average_accuracy,4))"
   ]
  },
  {
   "cell_type": "markdown",
   "id": "c7ebb253",
   "metadata": {},
   "source": [
    "## Evaluation"
   ]
  },
  {
   "cell_type": "code",
   "execution_count": 10,
   "id": "d1d426d4",
   "metadata": {},
   "outputs": [
    {
     "data": {
      "image/png": "[encoded data removed]",
      "text/plain": [
       "<Figure size 2400x700 with 2 Axes>"
      ]
     },
     "metadata": {},
     "output_type": "display_data"
    }
   ],
   "source": [
    "# Visualize it\n",
    "\n",
    "plt.style.use('ggplot')\n",
    "\n",
    "def plot_history(history):\n",
    "    acc = history.history['accuracy']\n",
    "    val_acc = history.history['val_accuracy']\n",
    "    loss = history.history['loss']\n",
    "    val_loss = history.history['val_loss']\n",
    "    x = range(1, len(acc) + 1)\n",
    "\n",
    "    plt.figure(figsize=(24, 7))\n",
    "    plt.subplot(1, 2, 1)\n",
    "    plt.plot(x, acc, 'b', label='Training acc')\n",
    "    plt.plot(x, val_acc, 'r', label='Validation acc')\n",
    "    plt.title('Training and validation accuracy')\n",
    "    plt.legend()\n",
    "    plt.subplot(1, 2, 2)\n",
    "    plt.plot(x, loss, 'b', label='Training loss')\n",
    "    plt.plot(x, val_loss, 'r', label='Validation loss')\n",
    "    plt.title('Training and validation loss')\n",
    "    plt.legend()\n",
    "\n",
    "%matplotlib inline\n",
    "plot_history(history)"
   ]
  },
  {
   "cell_type": "markdown",
   "id": "a0f47043-0480-4dad-8cee-6d71cc50aa83",
   "metadata": {},
   "source": [
    "Setelah 5 kali training dengan epoch mayoritas berhenti di epoch ke 5 dan 6, didapatkan rata-rata akurasi model senilai 79.1%"
   ]
  },
  {
   "cell_type": "code",
   "execution_count": 11,
   "id": "e002453b",
   "metadata": {},
   "outputs": [
    {
     "name": "stdout",
     "output_type": "stream",
     "text": [
      "Model has created!\n"
     ]
    },
    {
     "name": "stderr",
     "output_type": "stream",
     "text": [
      "C:\\Users\\ksreni\\AppData\\Local\\Programs\\Python\\Python310\\lib\\site-packages\\keras\\src\\engine\\training.py:3000: UserWarning: You are saving your model as an HDF5 file via `model.save()`. This file format is considered legacy. We recommend using instead the native Keras format, e.g. `model.save('my_model.keras')`.\n",
      "  saving_api.save_model(\n"
     ]
    }
   ],
   "source": [
    "# Save the model\n",
    "\n",
    "model.save('model.h5')\n",
    "print(\"Model has created!\")"
   ]
  },
  {
   "cell_type": "markdown",
   "id": "6ef92be3",
   "metadata": {},
   "source": [
    "## Prediction"
   ]
  },
  {
   "cell_type": "code",
   "execution_count": 19,
   "id": "629f3507",
   "metadata": {},
   "outputs": [
    {
     "name": "stdout",
     "output_type": "stream",
     "text": [
      "1/1 [==============================] - 0s 124ms/step\n",
      "Text:  rasanya enak  \n",
      "Sentiment: positive\n"
     ]
    }
   ],
   "source": [
    "input_text = \"\"\"\n",
    "rasanya enak  \"\"\"\n",
    "\n",
    "def cleansing(sent):\n",
    "    string = sent.lower()\n",
    "    string = re.sub(r'[^a-zA-Z0-9]', ' ', string)\n",
    "    return string\n",
    "\n",
    "sentiment = ['negative', 'neutral', 'positive']\n",
    "\n",
    "text = [cleansing(input_text)]\n",
    "predicted = tokenizer.texts_to_sequences(text)\n",
    "guess = pad_sequences(predicted, maxlen=X.shape[1])\n",
    "\n",
    "model = load_model('model.h5')\n",
    "prediction = model.predict(guess)\n",
    "polarity = np.argmax(prediction[0])\n",
    "hasil = sentiment[polarity]\n",
    "\n",
    "print(\"Text: %s\" % text[0])\n",
    "print(\"Sentiment: %s\" % sentiment[polarity])"
   ]
  },
  {
   "cell_type": "code",
   "execution_count": 18,
   "id": "db7592ea",
   "metadata": {},
   "outputs": [
    {
     "name": "stdout",
     "output_type": "stream",
     "text": [
      "1/1 [==============================] - 0s 134ms/step\n",
      "Text:  standarisasi makananan \n",
      "Sentiment: positive\n"
     ]
    }
   ],
   "source": [
    "input_text = \"\"\"\n",
    "standarisasi makananan \"\"\"\n",
    "\n",
    "def cleansing(sent):\n",
    "    string = sent.lower()\n",
    "    string = re.sub(r'[^a-zA-Z0-9]', ' ', string)\n",
    "    return string\n",
    "\n",
    "sentiment = ['negative', 'neutral', 'positive']\n",
    "\n",
    "text = [cleansing(input_text)]\n",
    "predicted = tokenizer.texts_to_sequences(text)\n",
    "guess = pad_sequences(predicted, maxlen=X.shape[1])\n",
    "\n",
    "model = load_model('model.h5')\n",
    "prediction = model.predict(guess)\n",
    "polarity = np.argmax(prediction[0])\n",
    "hasil = sentiment[polarity]\n",
    "\n",
    "print(\"Text: %s\" % text[0])\n",
    "print(\"Sentiment: %s\" % sentiment[polarity])"
   ]
  },
  {
   "cell_type": "code",
   "execution_count": 14,
   "id": "cae245c3-921c-4d8a-ab45-ad8f020900f2",
   "metadata": {},
   "outputs": [
    {
     "name": "stdout",
     "output_type": "stream",
     "text": [
      "1/1 [==============================] - 0s 148ms/step\n",
      "Text:  rasanya aneh  \n",
      "Sentiment: negative\n"
     ]
    }
   ],
   "source": [
    "input_text = \"\"\"\n",
    "rasanya aneh  \"\"\"\n",
    "\n",
    "def cleansing(sent):\n",
    "    string = sent.lower()\n",
    "    string = re.sub(r'[^a-zA-Z0-9]', ' ', string)\n",
    "    return string\n",
    "\n",
    "sentiment = ['negative', 'neutral', 'positive']\n",
    "\n",
    "text = [cleansing(input_text)]\n",
    "predicted = tokenizer.texts_to_sequences(text)\n",
    "guess = pad_sequences(predicted, maxlen=X.shape[1])\n",
    "\n",
    "model = load_model('model.h5')\n",
    "prediction = model.predict(guess)\n",
    "polarity = np.argmax(prediction[0])\n",
    "hasil = sentiment[polarity]\n",
    "\n",
    "print(\"Text: %s\" % text[0])\n",
    "print(\"Sentiment: %s\" % sentiment[polarity])"
   ]
  },
  {
   "cell_type": "code",
   "execution_count": null,
   "id": "c306e580-0452-43c1-90e8-73e902463282",
   "metadata": {},
   "outputs": [],
   "source": []
  }
 ],
 "metadata": {
  "kernelspec": {
   "display_name": "Python 3 (ipykernel)",
   "language": "python",
   "name": "python3"
  },
  "language_info": {
   "codemirror_mode": {
    "name": "ipython",
    "version": 3
   },
   "file_extension": ".py",
   "mimetype": "text/x-python",
   "name": "python",
   "nbconvert_exporter": "python",
   "pygments_lexer": "ipython3",
   "version": "3.10.7"
  }
 },
 "nbformat": 4,
 "nbformat_minor": 5
}
