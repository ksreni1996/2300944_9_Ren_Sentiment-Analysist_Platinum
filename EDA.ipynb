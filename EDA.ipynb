{
 "cells": [
  {
   "cell_type": "markdown",
   "id": "d538564c",
   "metadata": {},
   "source": [
    "## Load Libraries and Dataset"
   ]
  },
  {
   "cell_type": "code",
   "execution_count": 12,
   "id": "430ce9b1",
   "metadata": {},
   "outputs": [],
   "source": [
    "# import required libraries\n",
    "\n",
    "import pandas as pd\n",
    "import seaborn as sns\n",
    "import matplotlib.pyplot as plt\n",
    "import re\n",
    "import sqlite3\n",
    "import string"
   ]
  },
  {
   "cell_type": "code",
   "execution_count": 13,
   "id": "6c92e65e",
   "metadata": {},
   "outputs": [
    {
     "data": {
      "text/html": [
       "<div>\n",
       "<style scoped>\n",
       "    .dataframe tbody tr th:only-of-type {\n",
       "        vertical-align: middle;\n",
       "    }\n",
       "\n",
       "    .dataframe tbody tr th {\n",
       "        vertical-align: top;\n",
       "    }\n",
       "\n",
       "    .dataframe thead th {\n",
       "        text-align: right;\n",
       "    }\n",
       "</style>\n",
       "<table border=\"1\" class=\"dataframe\">\n",
       "  <thead>\n",
       "    <tr style=\"text-align: right;\">\n",
       "      <th></th>\n",
       "      <th>Tweet</th>\n",
       "      <th>Label</th>\n",
       "    </tr>\n",
       "  </thead>\n",
       "  <tbody>\n",
       "    <tr>\n",
       "      <th>0</th>\n",
       "      <td>warung ini dimiliki oleh pengusaha pabrik tahu...</td>\n",
       "      <td>positive</td>\n",
       "    </tr>\n",
       "    <tr>\n",
       "      <th>1</th>\n",
       "      <td>mohon ulama lurus dan k212 mmbri hujjah partai...</td>\n",
       "      <td>neutral</td>\n",
       "    </tr>\n",
       "    <tr>\n",
       "      <th>2</th>\n",
       "      <td>lokasi strategis di jalan sumatera bandung . t...</td>\n",
       "      <td>positive</td>\n",
       "    </tr>\n",
       "    <tr>\n",
       "      <th>3</th>\n",
       "      <td>betapa bahagia nya diri ini saat unboxing pake...</td>\n",
       "      <td>positive</td>\n",
       "    </tr>\n",
       "    <tr>\n",
       "      <th>4</th>\n",
       "      <td>duh . jadi mahasiswa jangan sombong dong . kas...</td>\n",
       "      <td>negative</td>\n",
       "    </tr>\n",
       "  </tbody>\n",
       "</table>\n",
       "</div>"
      ],
      "text/plain": [
       "                                               Tweet     Label\n",
       "0  warung ini dimiliki oleh pengusaha pabrik tahu...  positive\n",
       "1  mohon ulama lurus dan k212 mmbri hujjah partai...   neutral\n",
       "2  lokasi strategis di jalan sumatera bandung . t...  positive\n",
       "3  betapa bahagia nya diri ini saat unboxing pake...  positive\n",
       "4  duh . jadi mahasiswa jangan sombong dong . kas...  negative"
      ]
     },
     "execution_count": 13,
     "metadata": {},
     "output_type": "execute_result"
    }
   ],
   "source": [
    "# Import dataset\n",
    "\n",
    "df = pd.read_csv('train_preprocess.tsv.txt',sep='\\t',names=['Tweet','Label'])\n",
    "df.head()"
   ]
  },
  {
   "cell_type": "code",
   "execution_count": 14,
   "id": "bb7591b1",
   "metadata": {},
   "outputs": [
    {
     "data": {
      "text/plain": [
       "(11000, 2)"
      ]
     },
     "execution_count": 14,
     "metadata": {},
     "output_type": "execute_result"
    }
   ],
   "source": [
    "# Row and column check\n",
    "\n",
    "df.shape"
   ]
  },
  {
   "cell_type": "code",
   "execution_count": 15,
   "id": "b6fc7f26",
   "metadata": {},
   "outputs": [
    {
     "name": "stdout",
     "output_type": "stream",
     "text": [
      "<class 'pandas.core.frame.DataFrame'>\n",
      "RangeIndex: 11000 entries, 0 to 10999\n",
      "Data columns (total 2 columns):\n",
      " #   Column  Non-Null Count  Dtype \n",
      "---  ------  --------------  ----- \n",
      " 0   Tweet   11000 non-null  object\n",
      " 1   Label   11000 non-null  object\n",
      "dtypes: object(2)\n",
      "memory usage: 172.0+ KB\n"
     ]
    }
   ],
   "source": [
    "# General info\n",
    "\n",
    "df.info()"
   ]
  },
  {
   "cell_type": "markdown",
   "id": "bddf476f",
   "metadata": {},
   "source": [
    "Dataset terdiri dari 11.000 baris dengan 2 kolom dimana tipe datanya adalah object"
   ]
  },
  {
   "cell_type": "markdown",
   "id": "11130257",
   "metadata": {},
   "source": [
    "## Missing and Duplicated Value Check"
   ]
  },
  {
   "cell_type": "code",
   "execution_count": 16,
   "id": "de0c1976",
   "metadata": {},
   "outputs": [
    {
     "data": {
      "text/plain": [
       "Tweet    0\n",
       "Label    0\n",
       "dtype: int64"
      ]
     },
     "execution_count": 16,
     "metadata": {},
     "output_type": "execute_result"
    }
   ],
   "source": [
    "# Missing value check\n",
    "\n",
    "df.isna().sum()"
   ]
  },
  {
   "cell_type": "code",
   "execution_count": 17,
   "id": "14815367",
   "metadata": {},
   "outputs": [
    {
     "name": "stdout",
     "output_type": "stream",
     "text": [
      "terdapat 67 data yang terduplikasi\n"
     ]
    }
   ],
   "source": [
    "# Duplicated data check\n",
    "\n",
    "print('terdapat {} data yang terduplikasi'.format(df.duplicated().sum()))"
   ]
  },
  {
   "cell_type": "code",
   "execution_count": 18,
   "id": "c0380b70",
   "metadata": {},
   "outputs": [
    {
     "name": "stdout",
     "output_type": "stream",
     "text": [
      "terdapat 0 data yang terduplikasi\n",
      "data yang terduplikasi telah didrop\n"
     ]
    }
   ],
   "source": [
    "# Drop duplicated data\n",
    "\n",
    "df = df.drop_duplicates()\n",
    "print('terdapat {} data yang terduplikasi'.format(df.duplicated().sum()))\n",
    "print('data yang terduplikasi telah didrop')"
   ]
  },
  {
   "cell_type": "code",
   "execution_count": 19,
   "id": "8b087d62",
   "metadata": {},
   "outputs": [
    {
     "data": {
      "text/plain": [
       "(10933, 2)"
      ]
     },
     "execution_count": 19,
     "metadata": {},
     "output_type": "execute_result"
    }
   ],
   "source": [
    "# Row and column check\n",
    "\n",
    "df.shape"
   ]
  },
  {
   "cell_type": "markdown",
   "id": "fe39b711",
   "metadata": {},
   "source": [
    "dari dataset ini, tidak ditemukan missing value di dalamnya, namun setelah dicek terdapat data yang terduplikasi sebanyak 67 baris"
   ]
  },
  {
   "cell_type": "markdown",
   "id": "33b02d55",
   "metadata": {},
   "source": [
    "# EDA"
   ]
  },
  {
   "cell_type": "code",
   "execution_count": 20,
   "id": "a0bfc241",
   "metadata": {},
   "outputs": [
    {
     "data": {
      "text/plain": [
       "positive    6383\n",
       "negative    3412\n",
       "neutral     1138\n",
       "Name: Label, dtype: int64"
      ]
     },
     "execution_count": 20,
     "metadata": {},
     "output_type": "execute_result"
    }
   ],
   "source": [
    "# Label distribution\n",
    "\n",
    "df.Label.value_counts()"
   ]
  },
  {
   "cell_type": "code",
   "execution_count": 23,
   "id": "0ba3ac99",
   "metadata": {},
   "outputs": [
    {
     "data": {
      "image/png": "[encoded data removed]",
      "text/plain": [
       "<Figure size 640x480 with 1 Axes>"
      ]
     },
     "metadata": {},
     "output_type": "display_data"
    }
   ],
   "source": [
    "# Visualize it\n",
    "\n",
    "df.Label.value_counts().plot.pie(autopct='%1.0f%%', colors = ['#42cb45','#e80000','#195dd7'])\n",
    "plt.show()"
   ]
  },
  {
   "cell_type": "markdown",
   "id": "52f9f21e-f443-4980-847d-18183aa6b456",
   "metadata": {},
   "source": [
    "58% tweet dari dataset ini berlabelkan positif tweet, 31% berlabelkan negatif, dan 10% berlabelkan netral. "
   ]
  },
  {
   "cell_type": "markdown",
   "id": "02e3589b",
   "metadata": {},
   "source": [
    "## Text Processing"
   ]
  },
  {
   "cell_type": "markdown",
   "id": "05d2682d",
   "metadata": {},
   "source": [
    "Next, we will do text preprocessing so that the text data becomes even more structured. For this, we will use RegEx library."
   ]
  },
  {
   "cell_type": "code",
   "execution_count": 26,
   "id": "ce6fadcd",
   "metadata": {},
   "outputs": [],
   "source": [
    "# Convert to lowercase\n",
    "\n",
    "def lowercase(s):\n",
    "    return s.lower()"
   ]
  },
  {
   "cell_type": "code",
   "execution_count": 27,
   "id": "b7b15d88",
   "metadata": {},
   "outputs": [],
   "source": [
    "# Remove punctuation\n",
    "\n",
    "def punctuation(s):\n",
    "    s = re.sub('[^0-9a-zA-Z]+', ' ', s)\n",
    "    s = re.sub('^rt',' ', s)\n",
    "    s = re.sub(r'\\d+', '', s)\n",
    "    s = re.sub('user',' ', s)\n",
    "    s = re.sub(r':', ' ', s)\n",
    "    s = re.sub('((www\\.[^\\s]+)|(https?://[^\\s]+)|(http?://[^\\s]+))',' ', s)\n",
    "    s = re.sub(' +', ' ', s)\n",
    "    s = re.sub('\\n',' ',s)\n",
    "    s = re.sub(r'pic.twitter.com.[\\w]+', ' ', s)\n",
    "    return s"
   ]
  },
  {
   "cell_type": "code",
   "execution_count": 28,
   "id": "d6d7da13",
   "metadata": {},
   "outputs": [],
   "source": [
    "# Create database connection\n",
    "\n",
    "conn = sqlite3.connect('database.db')"
   ]
  },
  {
   "cell_type": "code",
   "execution_count": 29,
   "id": "e79fa2a5",
   "metadata": {},
   "outputs": [
    {
     "data": {
      "text/html": [
       "<div>\n",
       "<style scoped>\n",
       "    .dataframe tbody tr th:only-of-type {\n",
       "        vertical-align: middle;\n",
       "    }\n",
       "\n",
       "    .dataframe tbody tr th {\n",
       "        vertical-align: top;\n",
       "    }\n",
       "\n",
       "    .dataframe thead th {\n",
       "        text-align: right;\n",
       "    }\n",
       "</style>\n",
       "<table border=\"1\" class=\"dataframe\">\n",
       "  <thead>\n",
       "    <tr style=\"text-align: right;\">\n",
       "      <th></th>\n",
       "      <th>alay</th>\n",
       "      <th>normal</th>\n",
       "    </tr>\n",
       "  </thead>\n",
       "  <tbody>\n",
       "    <tr>\n",
       "      <th>0</th>\n",
       "      <td>anakjakartaasikasik</td>\n",
       "      <td>anak jakarta asyik asyik</td>\n",
       "    </tr>\n",
       "    <tr>\n",
       "      <th>1</th>\n",
       "      <td>pakcikdahtua</td>\n",
       "      <td>pak cik sudah tua</td>\n",
       "    </tr>\n",
       "    <tr>\n",
       "      <th>2</th>\n",
       "      <td>pakcikmudalagi</td>\n",
       "      <td>pak cik muda lagi</td>\n",
       "    </tr>\n",
       "    <tr>\n",
       "      <th>3</th>\n",
       "      <td>t3tapjokowi</td>\n",
       "      <td>tetap jokowi</td>\n",
       "    </tr>\n",
       "    <tr>\n",
       "      <th>4</th>\n",
       "      <td>3x</td>\n",
       "      <td>tiga kali</td>\n",
       "    </tr>\n",
       "    <tr>\n",
       "      <th>...</th>\n",
       "      <td>...</td>\n",
       "      <td>...</td>\n",
       "    </tr>\n",
       "    <tr>\n",
       "      <th>15162</th>\n",
       "      <td>mendikbud</td>\n",
       "      <td>menteri pendidikan dan kebudayaan</td>\n",
       "    </tr>\n",
       "    <tr>\n",
       "      <th>15163</th>\n",
       "      <td>mendag</td>\n",
       "      <td>menteri perdagangan</td>\n",
       "    </tr>\n",
       "    <tr>\n",
       "      <th>15164</th>\n",
       "      <td>menaker</td>\n",
       "      <td>menteri tenaga kerja</td>\n",
       "    </tr>\n",
       "    <tr>\n",
       "      <th>15165</th>\n",
       "      <td>memetwit</td>\n",
       "      <td>mentwit</td>\n",
       "    </tr>\n",
       "    <tr>\n",
       "      <th>15166</th>\n",
       "      <td>megangin</td>\n",
       "      <td>memegang</td>\n",
       "    </tr>\n",
       "  </tbody>\n",
       "</table>\n",
       "<p>15167 rows × 2 columns</p>\n",
       "</div>"
      ],
      "text/plain": [
       "                      alay                             normal\n",
       "0      anakjakartaasikasik           anak jakarta asyik asyik\n",
       "1             pakcikdahtua                  pak cik sudah tua\n",
       "2           pakcikmudalagi                  pak cik muda lagi\n",
       "3              t3tapjokowi                       tetap jokowi\n",
       "4                       3x                          tiga kali\n",
       "...                    ...                                ...\n",
       "15162            mendikbud  menteri pendidikan dan kebudayaan\n",
       "15163               mendag                menteri perdagangan\n",
       "15164              menaker               menteri tenaga kerja\n",
       "15165             memetwit                            mentwit\n",
       "15166             megangin                           memegang\n",
       "\n",
       "[15167 rows x 2 columns]"
      ]
     },
     "execution_count": 29,
     "metadata": {},
     "output_type": "execute_result"
    }
   ],
   "source": [
    "# Import kamusalay\n",
    "\n",
    "kamusalay = pd.read_csv('new_kamusalay.csv',encoding='latin-1',names=['alay','normal'])\n",
    "\n",
    "# Connect kamusalay to database\n",
    "\n",
    "kamusalay.to_sql('kamusalay', conn, if_exists='replace',index=False)\n",
    "kamusalay=pd.DataFrame(kamusalay)\n",
    "kamusalay"
   ]
  },
  {
   "cell_type": "code",
   "execution_count": 33,
   "id": "95a76ceb",
   "metadata": {},
   "outputs": [],
   "source": [
    "# Retrieve kamusalay\n",
    "\n",
    "db = sqlite3.connect(\"C:/Users/ksreni/belajar_ds/DSC_9_Kelompok 1_Challenge Platinum/database.db\", check_same_thread = False)\n",
    "q_kamusalay = 'SELECT * FROM kamusalay'\n",
    "t_kamusalay = pd.read_sql_query(q_kamusalay, db)"
   ]
  },
  {
   "cell_type": "code",
   "execution_count": 34,
   "id": "484af8d8",
   "metadata": {},
   "outputs": [],
   "source": [
    "# Change non standard words to become more standard words\n",
    "\n",
    "alay_dict = dict(zip(t_kamusalay['alay'], t_kamusalay['normal']))\n",
    "def alay_to_normal(s):\n",
    "    for word in alay_dict:\n",
    "        return ' '.join([alay_dict[word] if word in alay_dict else word for word in s.split(' ')])"
   ]
  },
  {
   "cell_type": "code",
   "execution_count": 35,
   "id": "e8f1d172",
   "metadata": {},
   "outputs": [
    {
     "data": {
      "text/html": [
       "<div>\n",
       "<style scoped>\n",
       "    .dataframe tbody tr th:only-of-type {\n",
       "        vertical-align: middle;\n",
       "    }\n",
       "\n",
       "    .dataframe tbody tr th {\n",
       "        vertical-align: top;\n",
       "    }\n",
       "\n",
       "    .dataframe thead th {\n",
       "        text-align: right;\n",
       "    }\n",
       "</style>\n",
       "<table border=\"1\" class=\"dataframe\">\n",
       "  <thead>\n",
       "    <tr style=\"text-align: right;\">\n",
       "      <th></th>\n",
       "      <th>Tweet</th>\n",
       "      <th>Label</th>\n",
       "    </tr>\n",
       "  </thead>\n",
       "  <tbody>\n",
       "    <tr>\n",
       "      <th>0</th>\n",
       "      <td>warung ini dimiliki oleh pengusaha pabrik tahu...</td>\n",
       "      <td>positive</td>\n",
       "    </tr>\n",
       "    <tr>\n",
       "      <th>1</th>\n",
       "      <td>mohon ulama lurus dan k212 mmbri hujjah partai...</td>\n",
       "      <td>neutral</td>\n",
       "    </tr>\n",
       "    <tr>\n",
       "      <th>2</th>\n",
       "      <td>lokasi strategis di jalan sumatera bandung . t...</td>\n",
       "      <td>positive</td>\n",
       "    </tr>\n",
       "    <tr>\n",
       "      <th>3</th>\n",
       "      <td>betapa bahagia nya diri ini saat unboxing pake...</td>\n",
       "      <td>positive</td>\n",
       "    </tr>\n",
       "    <tr>\n",
       "      <th>4</th>\n",
       "      <td>duh . jadi mahasiswa jangan sombong dong . kas...</td>\n",
       "      <td>negative</td>\n",
       "    </tr>\n",
       "  </tbody>\n",
       "</table>\n",
       "</div>"
      ],
      "text/plain": [
       "                                               Tweet     Label\n",
       "0  warung ini dimiliki oleh pengusaha pabrik tahu...  positive\n",
       "1  mohon ulama lurus dan k212 mmbri hujjah partai...   neutral\n",
       "2  lokasi strategis di jalan sumatera bandung . t...  positive\n",
       "3  betapa bahagia nya diri ini saat unboxing pake...  positive\n",
       "4  duh . jadi mahasiswa jangan sombong dong . kas...  negative"
      ]
     },
     "execution_count": 35,
     "metadata": {},
     "output_type": "execute_result"
    }
   ],
   "source": [
    "# Copy dataset\n",
    "\n",
    "data = df.copy()\n",
    "data.head()"
   ]
  },
  {
   "cell_type": "code",
   "execution_count": 36,
   "id": "892f2611",
   "metadata": {},
   "outputs": [],
   "source": [
    "# Create text cleansing function\n",
    "\n",
    "def cleansing(s):\n",
    "    s = lowercase(s)\n",
    "    s = punctuation(s)\n",
    "    s = alay_to_normal(s)\n",
    "    return s"
   ]
  },
  {
   "cell_type": "code",
   "execution_count": 37,
   "id": "204a6c5d",
   "metadata": {},
   "outputs": [
    {
     "data": {
      "text/html": [
       "<div>\n",
       "<style scoped>\n",
       "    .dataframe tbody tr th:only-of-type {\n",
       "        vertical-align: middle;\n",
       "    }\n",
       "\n",
       "    .dataframe tbody tr th {\n",
       "        vertical-align: top;\n",
       "    }\n",
       "\n",
       "    .dataframe thead th {\n",
       "        text-align: right;\n",
       "    }\n",
       "</style>\n",
       "<table border=\"1\" class=\"dataframe\">\n",
       "  <thead>\n",
       "    <tr style=\"text-align: right;\">\n",
       "      <th></th>\n",
       "      <th>Tweet</th>\n",
       "      <th>Label</th>\n",
       "    </tr>\n",
       "  </thead>\n",
       "  <tbody>\n",
       "    <tr>\n",
       "      <th>0</th>\n",
       "      <td>warung ini dimiliki oleh pengusaha pabrik tahu...</td>\n",
       "      <td>positive</td>\n",
       "    </tr>\n",
       "    <tr>\n",
       "      <th>1</th>\n",
       "      <td>mohon ulama lurus dan k mmbri hujjah partai ap...</td>\n",
       "      <td>neutral</td>\n",
       "    </tr>\n",
       "    <tr>\n",
       "      <th>2</th>\n",
       "      <td>lokasi strategis di jalan sumatra bandung temp...</td>\n",
       "      <td>positive</td>\n",
       "    </tr>\n",
       "    <tr>\n",
       "      <th>3</th>\n",
       "      <td>betapa bahagia nya diri ini saat unboxing pake...</td>\n",
       "      <td>positive</td>\n",
       "    </tr>\n",
       "    <tr>\n",
       "      <th>4</th>\n",
       "      <td>aduh jadi mahasiswa jangan sombong dong kasih ...</td>\n",
       "      <td>negative</td>\n",
       "    </tr>\n",
       "  </tbody>\n",
       "</table>\n",
       "</div>"
      ],
      "text/plain": [
       "                                               Tweet     Label\n",
       "0  warung ini dimiliki oleh pengusaha pabrik tahu...  positive\n",
       "1  mohon ulama lurus dan k mmbri hujjah partai ap...   neutral\n",
       "2  lokasi strategis di jalan sumatra bandung temp...  positive\n",
       "3  betapa bahagia nya diri ini saat unboxing pake...  positive\n",
       "4  aduh jadi mahasiswa jangan sombong dong kasih ...  negative"
      ]
     },
     "execution_count": 37,
     "metadata": {},
     "output_type": "execute_result"
    }
   ],
   "source": [
    "# Apply cleansing function to dataset\n",
    "\n",
    "data['Tweet'] = data['Tweet'].apply(cleansing)\n",
    "data.head()"
   ]
  },
  {
   "cell_type": "code",
   "execution_count": 38,
   "id": "5aa348e1",
   "metadata": {},
   "outputs": [
    {
     "name": "stdout",
     "output_type": "stream",
     "text": [
      "Old tweet: pdip sebut ridwan kamil menang karena berbaju merah\n",
      "\t\n",
      "New tweet: partai demokrasi indonesia perjuangan sebut ridwan kamil menang karena berbaju merah\n"
     ]
    }
   ],
   "source": [
    "# Old tweet and new tweet comparation\n",
    "\n",
    "print('Old tweet: {}'.format(df['Tweet'].iloc[28]))\n",
    "print('\\t')\n",
    "print('New tweet: {}'.format(data['Tweet'].iloc[28]))"
   ]
  },
  {
   "cell_type": "markdown",
   "id": "e023d465",
   "metadata": {},
   "source": [
    "## Data Storing"
   ]
  },
  {
   "cell_type": "code",
   "execution_count": 39,
   "id": "bfdca7db",
   "metadata": {},
   "outputs": [
    {
     "data": {
      "text/html": [
       "<div>\n",
       "<style scoped>\n",
       "    .dataframe tbody tr th:only-of-type {\n",
       "        vertical-align: middle;\n",
       "    }\n",
       "\n",
       "    .dataframe tbody tr th {\n",
       "        vertical-align: top;\n",
       "    }\n",
       "\n",
       "    .dataframe thead th {\n",
       "        text-align: right;\n",
       "    }\n",
       "</style>\n",
       "<table border=\"1\" class=\"dataframe\">\n",
       "  <thead>\n",
       "    <tr style=\"text-align: right;\">\n",
       "      <th></th>\n",
       "      <th>Tweet</th>\n",
       "      <th>Label</th>\n",
       "    </tr>\n",
       "  </thead>\n",
       "  <tbody>\n",
       "    <tr>\n",
       "      <th>0</th>\n",
       "      <td>warung ini dimiliki oleh pengusaha pabrik tahu...</td>\n",
       "      <td>positive</td>\n",
       "    </tr>\n",
       "    <tr>\n",
       "      <th>1</th>\n",
       "      <td>mohon ulama lurus dan k mmbri hujjah partai ap...</td>\n",
       "      <td>neutral</td>\n",
       "    </tr>\n",
       "    <tr>\n",
       "      <th>2</th>\n",
       "      <td>lokasi strategis di jalan sumatra bandung temp...</td>\n",
       "      <td>positive</td>\n",
       "    </tr>\n",
       "    <tr>\n",
       "      <th>3</th>\n",
       "      <td>betapa bahagia nya diri ini saat unboxing pake...</td>\n",
       "      <td>positive</td>\n",
       "    </tr>\n",
       "    <tr>\n",
       "      <th>4</th>\n",
       "      <td>aduh jadi mahasiswa jangan sombong dong kasih ...</td>\n",
       "      <td>negative</td>\n",
       "    </tr>\n",
       "    <tr>\n",
       "      <th>...</th>\n",
       "      <td>...</td>\n",
       "      <td>...</td>\n",
       "    </tr>\n",
       "    <tr>\n",
       "      <th>10993</th>\n",
       "      <td>f demokrat dorong upaya kemandirian energi nas...</td>\n",
       "      <td>neutral</td>\n",
       "    </tr>\n",
       "    <tr>\n",
       "      <th>10994</th>\n",
       "      <td>tidak bosan</td>\n",
       "      <td>positive</td>\n",
       "    </tr>\n",
       "    <tr>\n",
       "      <th>10996</th>\n",
       "      <td>enak rasa masakan nya apalagi kepiting yang me...</td>\n",
       "      <td>positive</td>\n",
       "    </tr>\n",
       "    <tr>\n",
       "      <th>10998</th>\n",
       "      <td>pagi pagi di tol pasteur sudah macet parah bik...</td>\n",
       "      <td>negative</td>\n",
       "    </tr>\n",
       "    <tr>\n",
       "      <th>10999</th>\n",
       "      <td>meskipun sering belanja ke yogyakarta di riau ...</td>\n",
       "      <td>positive</td>\n",
       "    </tr>\n",
       "  </tbody>\n",
       "</table>\n",
       "<p>10933 rows × 2 columns</p>\n",
       "</div>"
      ],
      "text/plain": [
       "                                                   Tweet     Label\n",
       "0      warung ini dimiliki oleh pengusaha pabrik tahu...  positive\n",
       "1      mohon ulama lurus dan k mmbri hujjah partai ap...   neutral\n",
       "2      lokasi strategis di jalan sumatra bandung temp...  positive\n",
       "3      betapa bahagia nya diri ini saat unboxing pake...  positive\n",
       "4      aduh jadi mahasiswa jangan sombong dong kasih ...  negative\n",
       "...                                                  ...       ...\n",
       "10993  f demokrat dorong upaya kemandirian energi nas...   neutral\n",
       "10994                                        tidak bosan  positive\n",
       "10996  enak rasa masakan nya apalagi kepiting yang me...  positive\n",
       "10998  pagi pagi di tol pasteur sudah macet parah bik...  negative\n",
       "10999  meskipun sering belanja ke yogyakarta di riau ...  positive\n",
       "\n",
       "[10933 rows x 2 columns]"
      ]
     },
     "execution_count": 39,
     "metadata": {},
     "output_type": "execute_result"
    }
   ],
   "source": [
    "# Connect cleaned data to database\n",
    "\n",
    "data.to_sql('data', conn, if_exists='replace',index=False)\n",
    "data=pd.DataFrame(data)\n",
    "data"
   ]
  },
  {
   "cell_type": "code",
   "execution_count": 40,
   "id": "ab6d9ef0",
   "metadata": {},
   "outputs": [],
   "source": [
    "# Close the database\n",
    "\n",
    "conn.commit()\n",
    "conn.close()"
   ]
  },
  {
   "cell_type": "code",
   "execution_count": null,
   "id": "8e4f6fcb-7415-416d-82a0-0ae3bcb49905",
   "metadata": {},
   "outputs": [],
   "source": []
  }
 ],
 "metadata": {
  "kernelspec": {
   "display_name": "Python 3 (ipykernel)",
   "language": "python",
   "name": "python3"
  },
  "language_info": {
   "codemirror_mode": {
    "name": "ipython",
    "version": 3
   },
   "file_extension": ".py",
   "mimetype": "text/x-python",
   "name": "python",
   "nbconvert_exporter": "python",
   "pygments_lexer": "ipython3",
   "version": "3.10.7"
  }
 },
 "nbformat": 4,
 "nbformat_minor": 5
}
